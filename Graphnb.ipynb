{
 "cells": [
  {
   "cell_type": "markdown",
   "metadata": {
    "id": "view-in-github",
    "colab_type": "text"
   },
   "source": [
    "<a href=\"https://colab.research.google.com/github/PenroseTiles/Graphical-Models-From-Scratch/blob/master/Graph.ipynb\" target=\"_parent\"><img src=\"https://colab.research.google.com/assets/colab-badge.svg\" alt=\"Open In Colab\"/></a>"
   ]
  },
  {
   "cell_type": "code",
   "execution_count": 0,
   "metadata": {
    "id": "zSxmBDi42jAU",
    "colab_type": "code",
    "colab": {}
   },
   "outputs": [],
   "source": [
    "class Graph():\n",
    "  def __init__(self):\n",
    "    self.vertices=['z1','z2']\n",
    "    for i in range(1,785):\n",
    "      self.vertices.append('x'+str(i))\n",
    "    self.edges={vertex:[] for vertex in self.vertices}\n",
    "    self.edges['z1'] = ['x'+str(i) for i in range(1,785)]\n",
    "    self.edges['z2'] = ['x'+str(i) for i in range(1,785)]\n",
    "    return\n",
    "\n",
    "  def dfs_cycle(self, vertex, recstack, visited):\n",
    "    #returns True if any cycles were found\n",
    "    visited[vertex]=True\n",
    "    recstack[vertex]=True\n",
    "    ret = []\n",
    "    for nbr in self.edges[vertex]:\n",
    "      if recstack[nbr]:\n",
    "        return True\n",
    "      elif visited[nbr]:\n",
    "        continue\n",
    "      else:\n",
    "        ret.append(self.dfs_cycle(nbr, recstack, visited))\n",
    "    recstack[vertex]=False\n",
    "    return any(ret)\n",
    "\n",
    "  def dfs_isroot(self, vertex, visited, isroot):\n",
    "    visited[vertex]=True\n",
    "    for nbr in self.edges[vertex]:\n",
    "      if visited[nbr]:\n",
    "        continue\n",
    "      else:\n",
    "        isroot[nbr]=False\n",
    "        self.dfs_isroot(nbr, visited, isroot)\n",
    "    return\n",
    "\n",
    "  def has_cycle(self):\n",
    "    #check for cycles in every component of the graph\n",
    "    components=[]\n",
    "    i=0\n",
    "    visited = {vertex:False for vertex in self.vertices}\n",
    "    for i in range(len(self.vertices)):\n",
    "      if visited[self.vertices[i]]:\n",
    "        continue\n",
    "      source = self.vertices[i]\n",
    "      recstack = {vertex: False for vertex in self.vertices}\n",
    "      components.append(self.dfs_cycle(source, recstack, visited))\n",
    "    return any(components)\n",
    "\n",
    "  def get_all_roots(self):\n",
    "    isroot = {vertex:True for vertex in self.vertices}\n",
    "    visited = {vertex:False for vertex in self.vertices}\n",
    "    for i in range(len(self.vertices)):\n",
    "      if visited[self.vertices[i]]:\n",
    "        continue\n",
    "      else:\n",
    "        self.dfs_isroot(self.vertices[i], visited, isroot)\n",
    "    return filter(lambda x : isroot.get(x, False), self.vertices)"
   ]
  },
  {
   "cell_type": "code",
   "execution_count": 40,
   "metadata": {
    "id": "lSv1AsNa9koe",
    "colab_type": "code",
    "colab": {
     "base_uri": "https://localhost:8080/",
     "height": 35.0
    },
    "outputId": "da92dd6a-5820-4bfa-8056-a7b9da137bb3"
   },
   "outputs": [
    {
     "name": "stdout",
     "output_type": "stream",
     "text": [
      "['z1', 'z2']\n"
     ]
    }
   ],
   "source": [
    "net = Graph()\n",
    "net.has_cycle()\n",
    "print([root for root in net.get_all_roots()])"
   ]
  },
  {
   "cell_type": "code",
   "execution_count": 0,
   "metadata": {
    "id": "fgkzR_j_9p_2",
    "colab_type": "code",
    "colab": {}
   },
   "outputs": [],
   "source": [
    ""
   ]
  }
 ],
 "metadata": {
  "colab": {
   "name": "Graph.ipynb",
   "provenance": [],
   "authorship_tag": "ABX9TyPPzvA29DaLApTgEdUFwFUY",
   "include_colab_link": true
  },
  "kernelspec": {
   "name": "python3",
   "display_name": "Python 3"
  }
 },
 "nbformat": 4,
 "nbformat_minor": 0
}